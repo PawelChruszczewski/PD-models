{
 "cells": [
  {
   "cell_type": "code",
   "execution_count": 1,
   "metadata": {},
   "outputs": [
    {
     "name": "stderr",
     "output_type": "stream",
     "text": [
      "\n",
      "Attaching package: 'dplyr'\n",
      "\n",
      "\n",
      "The following objects are masked from 'package:stats':\n",
      "\n",
      "    filter, lag\n",
      "\n",
      "\n",
      "The following objects are masked from 'package:base':\n",
      "\n",
      "    intersect, setdiff, setequal, union\n",
      "\n",
      "\n"
     ]
    }
   ],
   "source": [
    "library('dplyr')"
   ]
  },
  {
   "cell_type": "code",
   "execution_count": 2,
   "metadata": {},
   "outputs": [
    {
     "name": "stderr",
     "output_type": "stream",
     "text": [
      "Loading required package: sqldf\n",
      "\n",
      "Loading required package: gsubfn\n",
      "\n",
      "Loading required package: proto\n",
      "\n",
      "Loading required package: RSQLite\n",
      "\n",
      "Loading required package: partykit\n",
      "\n",
      "Loading required package: grid\n",
      "\n",
      "Loading required package: libcoin\n",
      "\n",
      "Loading required package: mvtnorm\n",
      "\n",
      "Loading required package: Formula\n",
      "\n"
     ]
    }
   ],
   "source": [
    "library('smbinning')"
   ]
  },
  {
   "cell_type": "code",
   "execution_count": 3,
   "metadata": {},
   "outputs": [],
   "source": [
    "library('tidyr')"
   ]
  },
  {
   "cell_type": "code",
   "execution_count": 4,
   "metadata": {},
   "outputs": [],
   "source": [
    "library('ggplot2')"
   ]
  },
  {
   "cell_type": "code",
   "execution_count": 5,
   "metadata": {},
   "outputs": [
    {
     "name": "stderr",
     "output_type": "stream",
     "text": [
      "-- \u001b[1mAttaching packages\u001b[22m --------------------------------------- tidyverse 1.3.0 --\n",
      "\n",
      "\u001b[32mv\u001b[39m \u001b[34mtibble \u001b[39m 3.0.4     \u001b[32mv\u001b[39m \u001b[34mstringr\u001b[39m 1.4.0\n",
      "\u001b[32mv\u001b[39m \u001b[34mreadr  \u001b[39m 1.4.0     \u001b[32mv\u001b[39m \u001b[34mforcats\u001b[39m 0.5.0\n",
      "\u001b[32mv\u001b[39m \u001b[34mpurrr  \u001b[39m 0.3.4     \n",
      "\n",
      "-- \u001b[1mConflicts\u001b[22m ------------------------------------------ tidyverse_conflicts() --\n",
      "\u001b[31mx\u001b[39m \u001b[34mdplyr\u001b[39m::\u001b[32mfilter()\u001b[39m masks \u001b[34mstats\u001b[39m::filter()\n",
      "\u001b[31mx\u001b[39m \u001b[34mdplyr\u001b[39m::\u001b[32mlag()\u001b[39m    masks \u001b[34mstats\u001b[39m::lag()\n",
      "\n"
     ]
    }
   ],
   "source": [
    "library('tidyverse')"
   ]
  },
  {
   "cell_type": "code",
   "execution_count": 6,
   "metadata": {},
   "outputs": [],
   "source": [
    "library('repr')"
   ]
  },
  {
   "cell_type": "code",
   "execution_count": 7,
   "metadata": {},
   "outputs": [],
   "source": [
    "library('DescTools')"
   ]
  },
  {
   "cell_type": "code",
   "execution_count": 8,
   "metadata": {},
   "outputs": [],
   "source": [
    "library('bestNormalize')"
   ]
  },
  {
   "cell_type": "code",
   "execution_count": 28,
   "metadata": {},
   "outputs": [
    {
     "name": "stderr",
     "output_type": "stream",
     "text": [
      "corrplot 0.84 loaded\n",
      "\n"
     ]
    }
   ],
   "source": [
    "library('corrplot')"
   ]
  },
  {
   "cell_type": "code",
   "execution_count": 91,
   "metadata": {},
   "outputs": [
    {
     "name": "stderr",
     "output_type": "stream",
     "text": [
      "\n",
      "Attaching package: 'MASS'\n",
      "\n",
      "\n",
      "The following object is masked from 'package:bestNormalize':\n",
      "\n",
      "    boxcox\n",
      "\n",
      "\n",
      "The following object is masked from 'package:dplyr':\n",
      "\n",
      "    select\n",
      "\n",
      "\n"
     ]
    }
   ],
   "source": [
    "library('MASS')"
   ]
  },
  {
   "cell_type": "code",
   "execution_count": 103,
   "metadata": {},
   "outputs": [
    {
     "name": "stderr",
     "output_type": "stream",
     "text": [
      "\n",
      "Attaching package: 'optiRum'\n",
      "\n",
      "\n",
      "The following object is masked from 'package:DescTools':\n",
      "\n",
      "    PMT\n",
      "\n",
      "\n"
     ]
    }
   ],
   "source": [
    "library('optiRum')"
   ]
  },
  {
   "cell_type": "code",
   "execution_count": 116,
   "metadata": {},
   "outputs": [
    {
     "name": "stderr",
     "output_type": "stream",
     "text": [
      "Type 'citation(\"pROC\")' for a citation.\n",
      "\n",
      "\n",
      "Attaching package: 'pROC'\n",
      "\n",
      "\n",
      "The following objects are masked from 'package:stats':\n",
      "\n",
      "    cov, smooth, var\n",
      "\n",
      "\n"
     ]
    }
   ],
   "source": [
    "library('pROC')"
   ]
  },
  {
   "cell_type": "code",
   "execution_count": 151,
   "metadata": {},
   "outputs": [
    {
     "name": "stderr",
     "output_type": "stream",
     "text": [
      "\n",
      "Attaching package: 'psych'\n",
      "\n",
      "\n",
      "The following objects are masked from 'package:DescTools':\n",
      "\n",
      "    AUC, ICC, SD\n",
      "\n",
      "\n",
      "The following objects are masked from 'package:ggplot2':\n",
      "\n",
      "    %+%, alpha\n",
      "\n",
      "\n"
     ]
    }
   ],
   "source": [
    "library('psych')"
   ]
  },
  {
   "cell_type": "code",
   "execution_count": 150,
   "metadata": {},
   "outputs": [
    {
     "name": "stderr",
     "output_type": "stream",
     "text": [
      "Installing package into 'C:/Users/pawel/OneDrive/Dokumenty/R/win-library/4.0'\n",
      "(as 'lib' is unspecified)\n",
      "\n"
     ]
    },
    {
     "name": "stdout",
     "output_type": "stream",
     "text": [
      "package 'psych' successfully unpacked and MD5 sums checked\n",
      "\n",
      "The downloaded binary packages are in\n",
      "\tC:\\Users\\pawel\\AppData\\Local\\Temp\\RtmpAFnby7\\downloaded_packages\n"
     ]
    }
   ],
   "source": [
    "install.packages('psych')"
   ]
  },
  {
   "cell_type": "code",
   "execution_count": 147,
   "metadata": {},
   "outputs": [],
   "source": [
    "data <- read.csv('C:/Users/pawel/PycharmProjects/Model/Dataset.csv', fileEncoding=\"UTF-8-BOM\")"
   ]
  },
  {
   "cell_type": "code",
   "execution_count": 148,
   "metadata": {},
   "outputs": [],
   "source": [
    "data$X <- NULL"
   ]
  },
  {
   "cell_type": "code",
   "execution_count": 153,
   "metadata": {},
   "outputs": [
    {
     "data": {
      "text/plain": [
       "       pd                 y                 atch              empch         \n",
       " Min.   :0.000000   Min.   :0.000000   Min.   :-0.99954   Min.   :-1.00000  \n",
       " 1st Qu.:0.000000   1st Qu.:0.000000   1st Qu.:-0.04054   1st Qu.:-0.04444  \n",
       " Median :0.000000   Median :0.000000   Median : 0.05274   Median : 0.02155  \n",
       " Mean   :0.060413   Mean   :0.008276   Mean   :     Inf   Mean   :     Inf  \n",
       " 3rd Qu.:0.002571   3rd Qu.:0.000000   3rd Qu.: 0.18456   3rd Qu.: 0.12658  \n",
       " Max.   :1.000000   Max.   :1.000000   Max.   :     Inf   Max.   :     Inf  \n",
       "     salech             roech               ptbch                nich         \n",
       " Min.   :-6.48789   Min.   :     -Inf   Min.   :     -Inf   Min.   :-1.00000  \n",
       " 1st Qu.:-0.03419   1st Qu.:-0.094281   1st Qu.:-0.569063   1st Qu.:-0.23790  \n",
       " Median : 0.07045   Median :-0.004721   Median :-0.002518   Median : 0.04159  \n",
       " Mean   :     Inf   Mean   :      NaN   Mean   :      NaN   Mean   : 0.01390  \n",
       " 3rd Qu.: 0.21583   3rd Qu.: 0.057653   3rd Qu.: 0.502332   3rd Qu.: 0.26897  \n",
       " Max.   :     Inf   Max.   :      Inf   Max.   :      Inf   Max.   : 1.00000  \n",
       " dlcpdlttdebit            nwcdta               redat           \n",
       " Min.   :-12243.807   Min.   :-25968.517   Min.   :-26097.598  \n",
       " 1st Qu.:     0.000   1st Qu.:     0.027   1st Qu.:    -0.360  \n",
       " Median :     1.300   Median :     0.174   Median :     0.109  \n",
       " Mean   :       Inf   Mean   :    -0.414   Mean   :    -3.771  \n",
       " 3rd Qu.:     4.198   3rd Qu.:     0.365   3rd Qu.:     0.332  \n",
       " Max.   :       Inf   Max.   :     1.000   Max.   :   140.581  \n",
       "    ebitdat             mvaluedtd          saledat            nidat           \n",
       " Min.   :-1413.0000   Min.   :0.00000   Min.   :-0.4887   Min.   :-25884.808  \n",
       " 1st Qu.:   -0.0123   1st Qu.:0.04089   1st Qu.: 0.4601   1st Qu.:    -0.045  \n",
       " Median :    0.0635   Median :0.21796   Median : 0.8585   Median :     0.032  \n",
       " Mean   :   -0.1537   Mean   :    Inf   Mean   : 1.0612   Mean   :    -0.669  \n",
       " 3rd Qu.:    0.1130   3rd Qu.:0.62330   3rd Qu.: 1.3842   3rd Qu.:     0.073  \n",
       " Max.   :   10.6984   Max.   :    Inf   Max.   :63.5041   Max.   :   239.676  \n",
       "     dtdat             lctdact         quickratio            bvdmv         \n",
       " Min.   :  0.0000   Min.   :0.0000   Min.   :-0.004494   Min.   :    -Inf  \n",
       " 1st Qu.:  0.0694   1st Qu.:0.3513   1st Qu.: 0.651735   1st Qu.:  0.2415  \n",
       " Median :  0.2287   Median :0.5658   Median : 1.089050   Median :  0.4737  \n",
       " Mean   :  0.3547   Mean   :   Inf   Mean   :      Inf   Mean   :    -Inf  \n",
       " 3rd Qu.:  0.3816   3rd Qu.:0.8859   3rd Qu.: 1.925814   3rd Qu.:  0.8262  \n",
       " Max.   :231.4444   Max.   :   Inf   Max.   :      Inf   Max.   :423.2811  \n",
       "     nidseq            actdnat             ebitdxint            redsale       \n",
       " Min.   :    -Inf   Min.   :-1887.7054   Min.   :-972.7637   Min.   :   -Inf  \n",
       " 1st Qu.:-0.04903   1st Qu.:    0.4578   1st Qu.:   0.0000   1st Qu.:-0.5106  \n",
       " Median : 0.08836   Median :    0.8627   Median :   0.0740   Median : 0.1092  \n",
       " Mean   :     NaN   Mean   :       Inf   Mean   :      Inf   Mean   :    NaN  \n",
       " 3rd Qu.: 0.17153   3rd Qu.:    1.2801   3rd Qu.:   0.2693   3rd Qu.: 0.3585  \n",
       " Max.   :     Inf   Max.   :       Inf   Max.   :      Inf   Max.   :    Inf  \n",
       "    nidsale           ebitdsale            ltdat               ffodlt       \n",
       " Min.   :    -Inf   Min.   :    -Inf   Min.   :    0.000   Min.   :   -Inf  \n",
       " 1st Qu.:-0.05888   1st Qu.:-0.01442   1st Qu.:    0.351   1st Qu.:0.01677  \n",
       " Median : 0.03168   Median : 0.06513   Median :    0.532   Median :0.15209  \n",
       " Mean   :     NaN   Mean   :     NaN   Mean   :    1.192   Mean   :    NaN  \n",
       " 3rd Qu.: 0.08247   3rd Qu.: 0.13588   3rd Qu.:    0.691   3rd Qu.:0.31637  \n",
       " Max.   :     Inf   Max.   :     Inf   Max.   :25968.974   Max.   :    Inf  "
      ]
     },
     "metadata": {},
     "output_type": "display_data"
    }
   ],
   "source": [
    "summary(data)"
   ]
  },
  {
   "cell_type": "code",
   "execution_count": 159,
   "metadata": {},
   "outputs": [
    {
     "name": "stderr",
     "output_type": "stream",
     "text": [
      "`stat_bin()` using `bins = 30`. Pick better value with `binwidth`.\n",
      "\n"
     ]
    },
    {
     "data": {
      "image/png": "[encoded data removed]",
      "text/plain": [
       "plot without title"
      ]
     },
     "metadata": {
      "image/png": {
       "height": 420,
       "width": 420
      }
     },
     "output_type": "display_data"
    }
   ],
   "source": [
    "data %>%\n",
    "  keep(is.numeric) %>% \n",
    "  gather() %>% \n",
    "  ggplot(aes(value)) +\n",
    "    facet_wrap(~ key, scales = \"free\") +\n",
    "    geom_histogram()"
   ]
  },
  {
   "cell_type": "code",
   "execution_count": 161,
   "metadata": {},
   "outputs": [],
   "source": [
    "# data winsorization - changing extreme values(inf) to the 0.01 percentile and 0.99 percentile\n",
    "for (i in colnames(data[,-1])){\n",
    "    data[,-1][,i] <- Winsorize(data[,-1][,i], probs = c(0.01, 0.99))\n",
    "}"
   ]
  },
  {
   "cell_type": "code",
   "execution_count": 315,
   "metadata": {},
   "outputs": [],
   "source": [
    "# stratified dataset split - train and test samples\n",
    "train.index <- caret::createDataPartition(data$y, p = .7, list = FALSE)"
   ]
  },
  {
   "cell_type": "code",
   "execution_count": 316,
   "metadata": {},
   "outputs": [],
   "source": [
    "train <- data[train.index,]\n",
    "test <- data[-train.index,]"
   ]
  },
  {
   "cell_type": "code",
   "execution_count": 319,
   "metadata": {},
   "outputs": [],
   "source": [
    "# data normalization - train dataset\n",
    "for (i in colnames(train[,-1])){\n",
    "    train[,i] <- yeojohnson(train[,i])$x.t\n",
    "}"
   ]
  },
  {
   "cell_type": "code",
   "execution_count": 320,
   "metadata": {},
   "outputs": [],
   "source": [
    "# data normalization - test dataset\n",
    "for (i in colnames(test[,-1])){\n",
    "    test[,i] <- yeojohnson(test[,i])$x.t\n",
    "}"
   ]
  },
  {
   "cell_type": "code",
   "execution_count": 321,
   "metadata": {},
   "outputs": [
    {
     "name": "stderr",
     "output_type": "stream",
     "text": [
      "`stat_bin()` using `bins = 30`. Pick better value with `binwidth`.\n",
      "\n"
     ]
    },
    {
     "data": {
      "image/png": "[encoded data removed]",
      "text/plain": [
       "plot without title"
      ]
     },
     "metadata": {
      "image/png": {
       "height": 420,
       "width": 420
      }
     },
     "output_type": "display_data"
    }
   ],
   "source": [
    "train %>%\n",
    "  keep(is.numeric) %>% \n",
    "  gather() %>% \n",
    "  ggplot(aes(value)) +\n",
    "    facet_wrap(~ key, scales = \"free\") +\n",
    "    geom_histogram()"
   ]
  },
  {
   "cell_type": "code",
   "execution_count": 211,
   "metadata": {},
   "outputs": [],
   "source": [
    "# categorizing numeric characteristic into bins for ulterior usage in scoring modeling - train set\n",
    "# for (i in colnames(train[,-2])){\n",
    "#     result <- smbinning(train, y = 'y', x = i, p = 0.2)\n",
    "#     if(is.character(result) == TRUE){\n",
    "#     next\n",
    "#     }\n",
    "#     train <- smbinning.gen(train, result, paste(i, 'bin', sep = \"_\"))\n",
    "#     }"
   ]
  },
  {
   "cell_type": "code",
   "execution_count": 212,
   "metadata": {},
   "outputs": [],
   "source": [
    "# categorizing numeric characteristic into bins for ulterior usage in scoring modeling - test set\n",
    "# for (i in colnames(test[,-2])){\n",
    "#     result <- smbinning(test, y = 'y', x = i, p = 0.2)\n",
    "#     if(is.character(result) == TRUE){\n",
    "#     next\n",
    "#     }\n",
    "#     test <- smbinning.gen(test, result, paste(i, 'bin', sep = \"_\"))\n",
    "#     }"
   ]
  },
  {
   "cell_type": "code",
   "execution_count": 242,
   "metadata": {},
   "outputs": [],
   "source": [
    "# removing features which were not assigned to bins\n",
    "# test <- test[,-c(31)]"
   ]
  },
  {
   "cell_type": "code",
   "execution_count": 243,
   "metadata": {},
   "outputs": [],
   "source": [
    "# train <- train[,-c(31,41)]"
   ]
  },
  {
   "cell_type": "code",
   "execution_count": 322,
   "metadata": {},
   "outputs": [
    {
     "name": "stdout",
     "output_type": "stream",
     "text": [
      " \n",
      "  |--------------------------------------------------| 100%\n",
      " \n"
     ]
    }
   ],
   "source": [
    "# variables' importance analysis\n",
    "iv.analysis <- smbinning.sumiv(df=train,y=\"y\")"
   ]
  },
  {
   "cell_type": "code",
   "execution_count": 323,
   "metadata": {},
   "outputs": [
    {
     "data": {
      "image/png": "[encoded data removed]",
      "text/plain": [
       "Plot with title \"Information Value\""
      ]
     },
     "metadata": {
      "image/png": {
       "height": 420,
       "width": 420
      }
     },
     "output_type": "display_data"
    }
   ],
   "source": [
    "# Information value for those features where the calculation of bins were possible\n",
    "par(mfrow=c(1,1))\n",
    "smbinning.sumiv.plot(iv.analysis,cex=1)"
   ]
  },
  {
   "cell_type": "code",
   "execution_count": 324,
   "metadata": {},
   "outputs": [],
   "source": [
    "# Computing Spearman rank correlation based on variables"
   ]
  },
  {
   "cell_type": "code",
   "execution_count": 325,
   "metadata": {},
   "outputs": [],
   "source": [
    "matrix_corr<- cor(train[,-c(1)], method = 'spearman')"
   ]
  },
  {
   "cell_type": "code",
   "execution_count": 326,
   "metadata": {},
   "outputs": [
    {
     "data": {
      "image/png": "[encoded data removed]",
      "text/plain": [
       "Plot with title \"\""
      ]
     },
     "metadata": {
      "image/png": {
       "height": 420,
       "width": 420
      }
     },
     "output_type": "display_data"
    }
   ],
   "source": [
    "# Graphical inspection\n",
    "corrplot(matrix_corr, method = 'number', number.cex = 0.5)"
   ]
  },
  {
   "cell_type": "code",
   "execution_count": 327,
   "metadata": {},
   "outputs": [],
   "source": [
    "corr <- as.data.frame(as.table(matrix_corr))"
   ]
  },
  {
   "cell_type": "code",
   "execution_count": 328,
   "metadata": {},
   "outputs": [],
   "source": [
    "min_corr <- head(arrange(corr, Freq),10)"
   ]
  },
  {
   "cell_type": "code",
   "execution_count": 329,
   "metadata": {},
   "outputs": [],
   "source": [
    "max_corr <- arrange(corr, desc(Freq))"
   ]
  },
  {
   "cell_type": "code",
   "execution_count": 330,
   "metadata": {},
   "outputs": [],
   "source": [
    "max_corr <- max_corr[27:nrow(max_corr),]"
   ]
  },
  {
   "cell_type": "code",
   "execution_count": 331,
   "metadata": {},
   "outputs": [
    {
     "data": {
      "text/html": [
       "<table>\n",
       "<caption>A data.frame: 10 × 3</caption>\n",
       "<thead>\n",
       "\t<tr><th></th><th scope=col>Var1</th><th scope=col>Var2</th><th scope=col>Freq</th></tr>\n",
       "\t<tr><th></th><th scope=col>&lt;fct&gt;</th><th scope=col>&lt;fct&gt;</th><th scope=col>&lt;dbl&gt;</th></tr>\n",
       "</thead>\n",
       "<tbody>\n",
       "\t<tr><th scope=row>1</th><td>lctdact   </td><td>nwcdta    </td><td>-0.9178370</td></tr>\n",
       "\t<tr><th scope=row>2</th><td>nwcdta    </td><td>lctdact   </td><td>-0.9178370</td></tr>\n",
       "\t<tr><th scope=row>3</th><td>quickratio</td><td>lctdact   </td><td>-0.8746042</td></tr>\n",
       "\t<tr><th scope=row>4</th><td>lctdact   </td><td>quickratio</td><td>-0.8746042</td></tr>\n",
       "\t<tr><th scope=row>5</th><td>ltdat     </td><td>quickratio</td><td>-0.6139006</td></tr>\n",
       "\t<tr><th scope=row>6</th><td>quickratio</td><td>ltdat     </td><td>-0.6139006</td></tr>\n",
       "\t<tr><th scope=row>7</th><td>ltdat     </td><td>nwcdta    </td><td>-0.5805548</td></tr>\n",
       "\t<tr><th scope=row>8</th><td>nwcdta    </td><td>ltdat     </td><td>-0.5805548</td></tr>\n",
       "\t<tr><th scope=row>9</th><td>dtdat     </td><td>nwcdta    </td><td>-0.5173741</td></tr>\n",
       "\t<tr><th scope=row>10</th><td>nwcdta    </td><td>dtdat     </td><td>-0.5173741</td></tr>\n",
       "</tbody>\n",
       "</table>\n"
      ],
      "text/latex": [
       "A data.frame: 10 × 3\n",
       "\\begin{tabular}{r|lll}\n",
       "  & Var1 & Var2 & Freq\\\\\n",
       "  & <fct> & <fct> & <dbl>\\\\\n",
       "\\hline\n",
       "\t1 & lctdact    & nwcdta     & -0.9178370\\\\\n",
       "\t2 & nwcdta     & lctdact    & -0.9178370\\\\\n",
       "\t3 & quickratio & lctdact    & -0.8746042\\\\\n",
       "\t4 & lctdact    & quickratio & -0.8746042\\\\\n",
       "\t5 & ltdat      & quickratio & -0.6139006\\\\\n",
       "\t6 & quickratio & ltdat      & -0.6139006\\\\\n",
       "\t7 & ltdat      & nwcdta     & -0.5805548\\\\\n",
       "\t8 & nwcdta     & ltdat      & -0.5805548\\\\\n",
       "\t9 & dtdat      & nwcdta     & -0.5173741\\\\\n",
       "\t10 & nwcdta     & dtdat      & -0.5173741\\\\\n",
       "\\end{tabular}\n"
      ],
      "text/markdown": [
       "\n",
       "A data.frame: 10 × 3\n",
       "\n",
       "| <!--/--> | Var1 &lt;fct&gt; | Var2 &lt;fct&gt; | Freq &lt;dbl&gt; |\n",
       "|---|---|---|---|\n",
       "| 1 | lctdact    | nwcdta     | -0.9178370 |\n",
       "| 2 | nwcdta     | lctdact    | -0.9178370 |\n",
       "| 3 | quickratio | lctdact    | -0.8746042 |\n",
       "| 4 | lctdact    | quickratio | -0.8746042 |\n",
       "| 5 | ltdat      | quickratio | -0.6139006 |\n",
       "| 6 | quickratio | ltdat      | -0.6139006 |\n",
       "| 7 | ltdat      | nwcdta     | -0.5805548 |\n",
       "| 8 | nwcdta     | ltdat      | -0.5805548 |\n",
       "| 9 | dtdat      | nwcdta     | -0.5173741 |\n",
       "| 10 | nwcdta     | dtdat      | -0.5173741 |\n",
       "\n"
      ],
      "text/plain": [
       "   Var1       Var2       Freq      \n",
       "1  lctdact    nwcdta     -0.9178370\n",
       "2  nwcdta     lctdact    -0.9178370\n",
       "3  quickratio lctdact    -0.8746042\n",
       "4  lctdact    quickratio -0.8746042\n",
       "5  ltdat      quickratio -0.6139006\n",
       "6  quickratio ltdat      -0.6139006\n",
       "7  ltdat      nwcdta     -0.5805548\n",
       "8  nwcdta     ltdat      -0.5805548\n",
       "9  dtdat      nwcdta     -0.5173741\n",
       "10 nwcdta     dtdat      -0.5173741"
      ]
     },
     "metadata": {},
     "output_type": "display_data"
    }
   ],
   "source": [
    "min_corr"
   ]
  },
  {
   "cell_type": "code",
   "execution_count": 332,
   "metadata": {},
   "outputs": [
    {
     "data": {
      "text/html": [
       "<table>\n",
       "<caption>A data.frame: 10 × 3</caption>\n",
       "<thead>\n",
       "\t<tr><th></th><th scope=col>Var1</th><th scope=col>Var2</th><th scope=col>Freq</th></tr>\n",
       "\t<tr><th></th><th scope=col>&lt;fct&gt;</th><th scope=col>&lt;fct&gt;</th><th scope=col>&lt;dbl&gt;</th></tr>\n",
       "</thead>\n",
       "<tbody>\n",
       "\t<tr><th scope=row>27</th><td>dlcpdlttdebit</td><td>ebitdxint</td><td>0.9570868</td></tr>\n",
       "\t<tr><th scope=row>28</th><td>redsale      </td><td>redat    </td><td>0.9244746</td></tr>\n",
       "\t<tr><th scope=row>29</th><td>redat        </td><td>redsale  </td><td>0.9244746</td></tr>\n",
       "\t<tr><th scope=row>30</th><td>nidsale      </td><td>nidat    </td><td>0.9024855</td></tr>\n",
       "\t<tr><th scope=row>31</th><td>nidat        </td><td>nidsale  </td><td>0.9024855</td></tr>\n",
       "\t<tr><th scope=row>32</th><td>nidat        </td><td>ebitdat  </td><td>0.8693718</td></tr>\n",
       "\t<tr><th scope=row>33</th><td>ebitdat      </td><td>nidat    </td><td>0.8693718</td></tr>\n",
       "\t<tr><th scope=row>34</th><td>ffodlt       </td><td>ebitdat  </td><td>0.8595052</td></tr>\n",
       "\t<tr><th scope=row>35</th><td>ebitdat      </td><td>ffodlt   </td><td>0.8595052</td></tr>\n",
       "\t<tr><th scope=row>36</th><td>dtdat        </td><td>mvaluedtd</td><td>0.8445413</td></tr>\n",
       "</tbody>\n",
       "</table>\n"
      ],
      "text/latex": [
       "A data.frame: 10 × 3\n",
       "\\begin{tabular}{r|lll}\n",
       "  & Var1 & Var2 & Freq\\\\\n",
       "  & <fct> & <fct> & <dbl>\\\\\n",
       "\\hline\n",
       "\t27 & dlcpdlttdebit & ebitdxint & 0.9570868\\\\\n",
       "\t28 & redsale       & redat     & 0.9244746\\\\\n",
       "\t29 & redat         & redsale   & 0.9244746\\\\\n",
       "\t30 & nidsale       & nidat     & 0.9024855\\\\\n",
       "\t31 & nidat         & nidsale   & 0.9024855\\\\\n",
       "\t32 & nidat         & ebitdat   & 0.8693718\\\\\n",
       "\t33 & ebitdat       & nidat     & 0.8693718\\\\\n",
       "\t34 & ffodlt        & ebitdat   & 0.8595052\\\\\n",
       "\t35 & ebitdat       & ffodlt    & 0.8595052\\\\\n",
       "\t36 & dtdat         & mvaluedtd & 0.8445413\\\\\n",
       "\\end{tabular}\n"
      ],
      "text/markdown": [
       "\n",
       "A data.frame: 10 × 3\n",
       "\n",
       "| <!--/--> | Var1 &lt;fct&gt; | Var2 &lt;fct&gt; | Freq &lt;dbl&gt; |\n",
       "|---|---|---|---|\n",
       "| 27 | dlcpdlttdebit | ebitdxint | 0.9570868 |\n",
       "| 28 | redsale       | redat     | 0.9244746 |\n",
       "| 29 | redat         | redsale   | 0.9244746 |\n",
       "| 30 | nidsale       | nidat     | 0.9024855 |\n",
       "| 31 | nidat         | nidsale   | 0.9024855 |\n",
       "| 32 | nidat         | ebitdat   | 0.8693718 |\n",
       "| 33 | ebitdat       | nidat     | 0.8693718 |\n",
       "| 34 | ffodlt        | ebitdat   | 0.8595052 |\n",
       "| 35 | ebitdat       | ffodlt    | 0.8595052 |\n",
       "| 36 | dtdat         | mvaluedtd | 0.8445413 |\n",
       "\n"
      ],
      "text/plain": [
       "   Var1          Var2      Freq     \n",
       "27 dlcpdlttdebit ebitdxint 0.9570868\n",
       "28 redsale       redat     0.9244746\n",
       "29 redat         redsale   0.9244746\n",
       "30 nidsale       nidat     0.9024855\n",
       "31 nidat         nidsale   0.9024855\n",
       "32 nidat         ebitdat   0.8693718\n",
       "33 ebitdat       nidat     0.8693718\n",
       "34 ffodlt        ebitdat   0.8595052\n",
       "35 ebitdat       ffodlt    0.8595052\n",
       "36 dtdat         mvaluedtd 0.8445413"
      ]
     },
     "metadata": {},
     "output_type": "display_data"
    }
   ],
   "source": [
    "head(max_corr,10)"
   ]
  },
  {
   "cell_type": "code",
   "execution_count": 333,
   "metadata": {},
   "outputs": [],
   "source": [
    "# Stepwise model fitting is used as many features in dataset are correlated\n",
    "logit_full<- glm(y~., family = binomial(link = 'logit'), data = train)"
   ]
  },
  {
   "cell_type": "code",
   "execution_count": 334,
   "metadata": {},
   "outputs": [],
   "source": [
    "logit_stepwise<- stepAIC(logit_full, trace = FALSE, direction = 'both')"
   ]
  },
  {
   "cell_type": "code",
   "execution_count": 335,
   "metadata": {},
   "outputs": [
    {
     "data": {
      "text/plain": [
       "\n",
       "Call:\n",
       "glm(formula = y ~ atch + salech + roech + nich + dlcpdlttdebit + \n",
       "    nwcdta + redat + mvaluedtd + nidat + dtdat + quickratio + \n",
       "    nidseq + actdnat + ebitdxint + ebitdsale + ltdat, family = binomial(link = \"logit\"), \n",
       "    data = train)\n",
       "\n",
       "Deviance Residuals: \n",
       "    Min       1Q   Median       3Q      Max  \n",
       "-1.1231  -0.0850  -0.0293  -0.0131   4.9868  \n",
       "\n",
       "Coefficients:\n",
       "              Estimate Std. Error z value             Pr(>|z|)    \n",
       "(Intercept)   -7.38623    0.18840 -39.205 < 0.0000000000000002 ***\n",
       "atch           0.10121    0.05832   1.735             0.082667 .  \n",
       "salech         0.19215    0.05821   3.301             0.000964 ***\n",
       "roech          0.11941    0.04672   2.556             0.010600 *  \n",
       "nich          -0.18414    0.05462  -3.371             0.000749 ***\n",
       "dlcpdlttdebit -0.31282    0.08999  -3.476             0.000509 ***\n",
       "nwcdta         0.37017    0.09680   3.824             0.000131 ***\n",
       "redat          0.68482    0.12118   5.651         0.0000000159 ***\n",
       "mvaluedtd      2.35235    0.12679  18.553 < 0.0000000000000002 ***\n",
       "nidat         -0.80030    0.14396  -5.559         0.0000000271 ***\n",
       "dtdat         -0.34334    0.14021  -2.449             0.014333 *  \n",
       "quickratio    -0.16631    0.08696  -1.912             0.055828 .  \n",
       "nidseq        -0.10992    0.05250  -2.094             0.036277 *  \n",
       "actdnat       -0.06772    0.04134  -1.638             0.101378    \n",
       "ebitdxint      0.27148    0.08777   3.093             0.001981 ** \n",
       "ebitdsale     -0.22007    0.09269  -2.374             0.017578 *  \n",
       "ltdat          0.57307    0.14695   3.900         0.0000962560 ***\n",
       "---\n",
       "Signif. codes:  0 '***' 0.001 '**' 0.01 '*' 0.05 '.' 0.1 ' ' 1\n",
       "\n",
       "(Dispersion parameter for binomial family taken to be 1)\n",
       "\n",
       "    Null deviance: 4423.3  on 44999  degrees of freedom\n",
       "Residual deviance: 3093.1  on 44983  degrees of freedom\n",
       "AIC: 3127.1\n",
       "\n",
       "Number of Fisher Scoring iterations: 10\n"
      ]
     },
     "metadata": {},
     "output_type": "display_data"
    }
   ],
   "source": [
    "summary(logit_stepwise)"
   ]
  },
  {
   "cell_type": "code",
   "execution_count": 336,
   "metadata": {},
   "outputs": [],
   "source": [
    "# Defining a scaling function to normalize scores withing given interval\n",
    "# pdo means points to double the odds\n",
    "scaled_score <- function(logit, odds, offset, pdo){\n",
    "                                        b = pdo/log(2) # for given pdo the odds double\n",
    "                                        a = offset - b*log(odds) \n",
    "                                        round(a + b*log((1-logit)/logit))} "
   ]
  },
  {
   "cell_type": "code",
   "execution_count": 337,
   "metadata": {},
   "outputs": [],
   "source": [
    "# conducting prediction based on estimated model\n",
    "test$predict_logit <- predict(logit_stepwise, newdata = test, type = 'response')"
   ]
  },
  {
   "cell_type": "code",
   "execution_count": 338,
   "metadata": {},
   "outputs": [],
   "source": [
    "# scaling scores\n",
    "# anchor is arbitrarly set at 660 points\n",
    "# A 72:1 odds ratio is identified in line with common practice.\n",
    "test$score<-scaled_score(test$predict_logit, 72, 660, 40)"
   ]
  },
  {
   "cell_type": "code",
   "execution_count": 339,
   "metadata": {},
   "outputs": [],
   "source": [
    "train$predict_logit <- predict(logit_stepwise, newdata = train, type = 'response')"
   ]
  },
  {
   "cell_type": "code",
   "execution_count": 340,
   "metadata": {},
   "outputs": [],
   "source": [
    "train$score<-scaled_score(train$predict_logit, 72, 660, 40)"
   ]
  },
  {
   "cell_type": "code",
   "execution_count": 344,
   "metadata": {},
   "outputs": [],
   "source": [
    "data_all <- rbind(train, test)"
   ]
  },
  {
   "cell_type": "code",
   "execution_count": null,
   "metadata": {},
   "outputs": [],
   "source": [
    "# PD calibration procedure is conducted\n",
    "# Nonetheless the results can be misleading because both test and train data were already used to predict the PD and calculate the score"
   ]
  },
  {
   "cell_type": "code",
   "execution_count": 349,
   "metadata": {},
   "outputs": [],
   "source": [
    "pd_model<- glm(y~ score, family = binomial(link = 'logit'), data = data_all)"
   ]
  },
  {
   "cell_type": "code",
   "execution_count": 350,
   "metadata": {},
   "outputs": [
    {
     "data": {
      "text/plain": [
       "\n",
       "Call:\n",
       "glm(formula = y ~ score, family = binomial(link = \"logit\"), data = data_all)\n",
       "\n",
       "Deviance Residuals: \n",
       "    Min       1Q   Median       3Q      Max  \n",
       "-1.1373  -0.0814  -0.0271  -0.0120   5.0409  \n",
       "\n",
       "Coefficients:\n",
       "              Estimate Std. Error z value            Pr(>|z|)    \n",
       "(Intercept)  7.3822343  0.3470051   21.27 <0.0000000000000002 ***\n",
       "score       -0.0177611  0.0005849  -30.37 <0.0000000000000002 ***\n",
       "---\n",
       "Signif. codes:  0 '***' 0.001 '**' 0.01 '*' 0.05 '.' 0.1 ' ' 1\n",
       "\n",
       "(Dispersion parameter for binomial family taken to be 1)\n",
       "\n",
       "    Null deviance: 6160.9  on 64284  degrees of freedom\n",
       "Residual deviance: 4275.0  on 64283  degrees of freedom\n",
       "AIC: 4279\n",
       "\n",
       "Number of Fisher Scoring iterations: 10\n"
      ]
     },
     "metadata": {},
     "output_type": "display_data"
    }
   ],
   "source": [
    "summary(pd_model)"
   ]
  },
  {
   "cell_type": "code",
   "execution_count": 351,
   "metadata": {},
   "outputs": [],
   "source": [
    "data_all$pd<- predict(pd_model, newdata = data_all, type = 'response')"
   ]
  },
  {
   "cell_type": "code",
   "execution_count": 352,
   "metadata": {},
   "outputs": [
    {
     "data": {
      "text/html": [
       "<table>\n",
       "<caption>A data.frame: 6 × 28</caption>\n",
       "<thead>\n",
       "\t<tr><th></th><th scope=col>y</th><th scope=col>atch</th><th scope=col>empch</th><th scope=col>salech</th><th scope=col>roech</th><th scope=col>ptbch</th><th scope=col>nich</th><th scope=col>dlcpdlttdebit</th><th scope=col>nwcdta</th><th scope=col>redat</th><th scope=col>...</th><th scope=col>nidseq</th><th scope=col>actdnat</th><th scope=col>ebitdxint</th><th scope=col>redsale</th><th scope=col>nidsale</th><th scope=col>ebitdsale</th><th scope=col>ltdat</th><th scope=col>ffodlt</th><th scope=col>predict_logit</th><th scope=col>score</th></tr>\n",
       "\t<tr><th></th><th scope=col>&lt;dbl&gt;</th><th scope=col>&lt;dbl&gt;</th><th scope=col>&lt;dbl&gt;</th><th scope=col>&lt;dbl&gt;</th><th scope=col>&lt;dbl&gt;</th><th scope=col>&lt;dbl&gt;</th><th scope=col>&lt;dbl&gt;</th><th scope=col>&lt;dbl&gt;</th><th scope=col>&lt;dbl&gt;</th><th scope=col>&lt;dbl&gt;</th><th scope=col>...</th><th scope=col>&lt;dbl&gt;</th><th scope=col>&lt;dbl&gt;</th><th scope=col>&lt;dbl&gt;</th><th scope=col>&lt;dbl&gt;</th><th scope=col>&lt;dbl&gt;</th><th scope=col>&lt;dbl&gt;</th><th scope=col>&lt;dbl&gt;</th><th scope=col>&lt;dbl&gt;</th><th scope=col>&lt;dbl&gt;</th><th scope=col>&lt;dbl&gt;</th></tr>\n",
       "</thead>\n",
       "<tbody>\n",
       "\t<tr><th scope=row>2</th><td>0</td><td> 0.3762586</td><td>-0.05775943</td><td> 0.3021089</td><td> 0.013701008</td><td>-0.063598217</td><td> 0.21490668</td><td>-0.06551555</td><td>0.5138403</td><td>0.2194848</td><td>...</td><td> 0.08356470</td><td>0.1870813</td><td>-0.01064278</td><td>0.1207500</td><td> 0.23689620</td><td> 0.23730328</td><td>-0.23524092</td><td> 0.196250523</td><td>0.0003436602</td><td>873</td></tr>\n",
       "\t<tr><th scope=row>8</th><td>0</td><td>-0.5097143</td><td>-0.25731659</td><td>-0.4246331</td><td>-0.007462301</td><td>-0.007721331</td><td>-1.75610645</td><td> 0.30287531</td><td>1.1830824</td><td>0.3896500</td><td>...</td><td>-0.02022980</td><td>0.2773269</td><td> 0.43954337</td><td>0.2401230</td><td> 0.03218837</td><td>-0.00358228</td><td>-0.03523040</td><td>-0.122322573</td><td>0.0058772359</td><td>709</td></tr>\n",
       "\t<tr><th scope=row>10</th><td>0</td><td>-0.1410328</td><td> 0.04199782</td><td> 0.1023601</td><td> 0.018225151</td><td>-0.010941841</td><td> 0.03448272</td><td> 0.24444219</td><td>1.4378247</td><td>0.3428139</td><td>...</td><td> 0.02708787</td><td>0.4231916</td><td> 0.37965227</td><td>0.2136397</td><td> 0.11956452</td><td> 0.04503034</td><td> 0.15404527</td><td>-0.097111438</td><td>0.0058259154</td><td>710</td></tr>\n",
       "\t<tr><th scope=row>12</th><td>0</td><td> 0.4407641</td><td>-0.19967706</td><td> 0.2311112</td><td> 0.020325285</td><td> 0.037395382</td><td> 0.28413052</td><td> 0.03625006</td><td>1.4843928</td><td>0.3228435</td><td>...</td><td> 0.05693990</td><td>0.3640032</td><td> 0.14586156</td><td>0.1916565</td><td> 0.18438648</td><td> 0.12722241</td><td>-0.00051262</td><td>-0.003514232</td><td>0.0006940451</td><td>833</td></tr>\n",
       "\t<tr><th scope=row>18</th><td>0</td><td>-0.3366287</td><td>-0.31156806</td><td>-0.2962218</td><td> 0.089000016</td><td>-0.035701533</td><td> 1.21001770</td><td> 5.35921099</td><td>0.1693567</td><td>0.2135106</td><td>...</td><td>-0.06003328</td><td>0.2413837</td><td> 5.12054701</td><td>0.1876295</td><td>-0.04606071</td><td>-0.15071266</td><td> 0.25983949</td><td>-0.199720220</td><td>0.0209910235</td><td>635</td></tr>\n",
       "\t<tr><th scope=row>21</th><td>0</td><td> 0.7507862</td><td> 0.77125883</td><td> 0.2971781</td><td> 0.033448296</td><td> 0.073325304</td><td> 0.69049631</td><td> 0.25890701</td><td>0.8135680</td><td>0.2276101</td><td>...</td><td> 0.05479353</td><td>0.3256754</td><td> 0.18907979</td><td>0.1874911</td><td> 0.18487855</td><td> 0.11395995</td><td> 0.25290019</td><td>-0.057266881</td><td>0.0014815839</td><td>789</td></tr>\n",
       "</tbody>\n",
       "</table>\n"
      ],
      "text/latex": [
       "A data.frame: 6 × 28\n",
       "\\begin{tabular}{r|lllllllllllllllllllll}\n",
       "  & y & atch & empch & salech & roech & ptbch & nich & dlcpdlttdebit & nwcdta & redat & ... & nidseq & actdnat & ebitdxint & redsale & nidsale & ebitdsale & ltdat & ffodlt & predict\\_logit & score\\\\\n",
       "  & <dbl> & <dbl> & <dbl> & <dbl> & <dbl> & <dbl> & <dbl> & <dbl> & <dbl> & <dbl> & ... & <dbl> & <dbl> & <dbl> & <dbl> & <dbl> & <dbl> & <dbl> & <dbl> & <dbl> & <dbl>\\\\\n",
       "\\hline\n",
       "\t2 & 0 &  0.3762586 & -0.05775943 &  0.3021089 &  0.013701008 & -0.063598217 &  0.21490668 & -0.06551555 & 0.5138403 & 0.2194848 & ... &  0.08356470 & 0.1870813 & -0.01064278 & 0.1207500 &  0.23689620 &  0.23730328 & -0.23524092 &  0.196250523 & 0.0003436602 & 873\\\\\n",
       "\t8 & 0 & -0.5097143 & -0.25731659 & -0.4246331 & -0.007462301 & -0.007721331 & -1.75610645 &  0.30287531 & 1.1830824 & 0.3896500 & ... & -0.02022980 & 0.2773269 &  0.43954337 & 0.2401230 &  0.03218837 & -0.00358228 & -0.03523040 & -0.122322573 & 0.0058772359 & 709\\\\\n",
       "\t10 & 0 & -0.1410328 &  0.04199782 &  0.1023601 &  0.018225151 & -0.010941841 &  0.03448272 &  0.24444219 & 1.4378247 & 0.3428139 & ... &  0.02708787 & 0.4231916 &  0.37965227 & 0.2136397 &  0.11956452 &  0.04503034 &  0.15404527 & -0.097111438 & 0.0058259154 & 710\\\\\n",
       "\t12 & 0 &  0.4407641 & -0.19967706 &  0.2311112 &  0.020325285 &  0.037395382 &  0.28413052 &  0.03625006 & 1.4843928 & 0.3228435 & ... &  0.05693990 & 0.3640032 &  0.14586156 & 0.1916565 &  0.18438648 &  0.12722241 & -0.00051262 & -0.003514232 & 0.0006940451 & 833\\\\\n",
       "\t18 & 0 & -0.3366287 & -0.31156806 & -0.2962218 &  0.089000016 & -0.035701533 &  1.21001770 &  5.35921099 & 0.1693567 & 0.2135106 & ... & -0.06003328 & 0.2413837 &  5.12054701 & 0.1876295 & -0.04606071 & -0.15071266 &  0.25983949 & -0.199720220 & 0.0209910235 & 635\\\\\n",
       "\t21 & 0 &  0.7507862 &  0.77125883 &  0.2971781 &  0.033448296 &  0.073325304 &  0.69049631 &  0.25890701 & 0.8135680 & 0.2276101 & ... &  0.05479353 & 0.3256754 &  0.18907979 & 0.1874911 &  0.18487855 &  0.11395995 &  0.25290019 & -0.057266881 & 0.0014815839 & 789\\\\\n",
       "\\end{tabular}\n"
      ],
      "text/markdown": [
       "\n",
       "A data.frame: 6 × 28\n",
       "\n",
       "| <!--/--> | y &lt;dbl&gt; | atch &lt;dbl&gt; | empch &lt;dbl&gt; | salech &lt;dbl&gt; | roech &lt;dbl&gt; | ptbch &lt;dbl&gt; | nich &lt;dbl&gt; | dlcpdlttdebit &lt;dbl&gt; | nwcdta &lt;dbl&gt; | redat &lt;dbl&gt; | ... ... | nidseq &lt;dbl&gt; | actdnat &lt;dbl&gt; | ebitdxint &lt;dbl&gt; | redsale &lt;dbl&gt; | nidsale &lt;dbl&gt; | ebitdsale &lt;dbl&gt; | ltdat &lt;dbl&gt; | ffodlt &lt;dbl&gt; | predict_logit &lt;dbl&gt; | score &lt;dbl&gt; |\n",
       "|---|---|---|---|---|---|---|---|---|---|---|---|---|---|---|---|---|---|---|---|---|---|\n",
       "| 2 | 0 |  0.3762586 | -0.05775943 |  0.3021089 |  0.013701008 | -0.063598217 |  0.21490668 | -0.06551555 | 0.5138403 | 0.2194848 | ... |  0.08356470 | 0.1870813 | -0.01064278 | 0.1207500 |  0.23689620 |  0.23730328 | -0.23524092 |  0.196250523 | 0.0003436602 | 873 |\n",
       "| 8 | 0 | -0.5097143 | -0.25731659 | -0.4246331 | -0.007462301 | -0.007721331 | -1.75610645 |  0.30287531 | 1.1830824 | 0.3896500 | ... | -0.02022980 | 0.2773269 |  0.43954337 | 0.2401230 |  0.03218837 | -0.00358228 | -0.03523040 | -0.122322573 | 0.0058772359 | 709 |\n",
       "| 10 | 0 | -0.1410328 |  0.04199782 |  0.1023601 |  0.018225151 | -0.010941841 |  0.03448272 |  0.24444219 | 1.4378247 | 0.3428139 | ... |  0.02708787 | 0.4231916 |  0.37965227 | 0.2136397 |  0.11956452 |  0.04503034 |  0.15404527 | -0.097111438 | 0.0058259154 | 710 |\n",
       "| 12 | 0 |  0.4407641 | -0.19967706 |  0.2311112 |  0.020325285 |  0.037395382 |  0.28413052 |  0.03625006 | 1.4843928 | 0.3228435 | ... |  0.05693990 | 0.3640032 |  0.14586156 | 0.1916565 |  0.18438648 |  0.12722241 | -0.00051262 | -0.003514232 | 0.0006940451 | 833 |\n",
       "| 18 | 0 | -0.3366287 | -0.31156806 | -0.2962218 |  0.089000016 | -0.035701533 |  1.21001770 |  5.35921099 | 0.1693567 | 0.2135106 | ... | -0.06003328 | 0.2413837 |  5.12054701 | 0.1876295 | -0.04606071 | -0.15071266 |  0.25983949 | -0.199720220 | 0.0209910235 | 635 |\n",
       "| 21 | 0 |  0.7507862 |  0.77125883 |  0.2971781 |  0.033448296 |  0.073325304 |  0.69049631 |  0.25890701 | 0.8135680 | 0.2276101 | ... |  0.05479353 | 0.3256754 |  0.18907979 | 0.1874911 |  0.18487855 |  0.11395995 |  0.25290019 | -0.057266881 | 0.0014815839 | 789 |\n",
       "\n"
      ],
      "text/plain": [
       "   y atch       empch       salech     roech        ptbch        nich       \n",
       "2  0  0.3762586 -0.05775943  0.3021089  0.013701008 -0.063598217  0.21490668\n",
       "8  0 -0.5097143 -0.25731659 -0.4246331 -0.007462301 -0.007721331 -1.75610645\n",
       "10 0 -0.1410328  0.04199782  0.1023601  0.018225151 -0.010941841  0.03448272\n",
       "12 0  0.4407641 -0.19967706  0.2311112  0.020325285  0.037395382  0.28413052\n",
       "18 0 -0.3366287 -0.31156806 -0.2962218  0.089000016 -0.035701533  1.21001770\n",
       "21 0  0.7507862  0.77125883  0.2971781  0.033448296  0.073325304  0.69049631\n",
       "   dlcpdlttdebit nwcdta    redat     ... nidseq      actdnat   ebitdxint  \n",
       "2  -0.06551555   0.5138403 0.2194848 ...  0.08356470 0.1870813 -0.01064278\n",
       "8   0.30287531   1.1830824 0.3896500 ... -0.02022980 0.2773269  0.43954337\n",
       "10  0.24444219   1.4378247 0.3428139 ...  0.02708787 0.4231916  0.37965227\n",
       "12  0.03625006   1.4843928 0.3228435 ...  0.05693990 0.3640032  0.14586156\n",
       "18  5.35921099   0.1693567 0.2135106 ... -0.06003328 0.2413837  5.12054701\n",
       "21  0.25890701   0.8135680 0.2276101 ...  0.05479353 0.3256754  0.18907979\n",
       "   redsale   nidsale     ebitdsale   ltdat       ffodlt       predict_logit\n",
       "2  0.1207500  0.23689620  0.23730328 -0.23524092  0.196250523 0.0003436602 \n",
       "8  0.2401230  0.03218837 -0.00358228 -0.03523040 -0.122322573 0.0058772359 \n",
       "10 0.2136397  0.11956452  0.04503034  0.15404527 -0.097111438 0.0058259154 \n",
       "12 0.1916565  0.18438648  0.12722241 -0.00051262 -0.003514232 0.0006940451 \n",
       "18 0.1876295 -0.04606071 -0.15071266  0.25983949 -0.199720220 0.0209910235 \n",
       "21 0.1874911  0.18487855  0.11395995  0.25290019 -0.057266881 0.0014815839 \n",
       "   score\n",
       "2  873  \n",
       "8  709  \n",
       "10 710  \n",
       "12 833  \n",
       "18 635  \n",
       "21 789  "
      ]
     },
     "metadata": {},
     "output_type": "display_data"
    }
   ],
   "source": [
    "head(test)"
   ]
  },
  {
   "cell_type": "code",
   "execution_count": 354,
   "metadata": {},
   "outputs": [],
   "source": [
    "# gini index\n",
    "gini_test<- optiRum::giniCoef(data_all$pd, data_all$y)"
   ]
  },
  {
   "cell_type": "code",
   "execution_count": 355,
   "metadata": {},
   "outputs": [
    {
     "data": {
      "text/html": [
       "0.855269880267465"
      ],
      "text/latex": [
       "0.855269880267465"
      ],
      "text/markdown": [
       "0.855269880267465"
      ],
      "text/plain": [
       "[1] 0.8552699"
      ]
     },
     "metadata": {},
     "output_type": "display_data"
    }
   ],
   "source": [
    "gini_test"
   ]
  },
  {
   "cell_type": "code",
   "execution_count": 356,
   "metadata": {},
   "outputs": [
    {
     "name": "stderr",
     "output_type": "stream",
     "text": [
      "Setting levels: control = 0, case = 1\n",
      "\n"
     ]
    },
    {
     "data": {
      "image/png": "[encoded data removed]",
      "text/plain": [
       "Plot with title \"ROC Curve\""
      ]
     },
     "metadata": {
      "image/png": {
       "height": 420,
       "width": 420
      }
     },
     "output_type": "display_data"
    }
   ],
   "source": [
    "plot(roc(data_all$y,data_all$pd, direction=\"<\"), col=\"red\", lwd=3, main=\"ROC Curve\")"
   ]
  },
  {
   "cell_type": "code",
   "execution_count": 357,
   "metadata": {},
   "outputs": [],
   "source": [
    "score_cust<- smbinning.custom(data_all, y = 'y', x= 'score', cuts= c(420,460,500,540,580,620,660,700,740,780,820,860,900))"
   ]
  },
  {
   "cell_type": "code",
   "execution_count": 223,
   "metadata": {},
   "outputs": [
    {
     "data": {
      "text/html": [
       "<table>\n",
       "<caption>A data.frame: 6 × 29</caption>\n",
       "<thead>\n",
       "\t<tr><th></th><th scope=col>y</th><th scope=col>atch</th><th scope=col>empch</th><th scope=col>salech</th><th scope=col>roech</th><th scope=col>ptbch</th><th scope=col>nich</th><th scope=col>dlcpdlttdebit</th><th scope=col>nwcdta</th><th scope=col>redat</th><th scope=col>...</th><th scope=col>actdnat</th><th scope=col>ebitdxint</th><th scope=col>redsale</th><th scope=col>nidsale</th><th scope=col>ebitdsale</th><th scope=col>ltdat</th><th scope=col>ffodlt</th><th scope=col>predict_logit</th><th scope=col>score</th><th scope=col>pd</th></tr>\n",
       "\t<tr><th></th><th scope=col>&lt;dbl&gt;</th><th scope=col>&lt;dbl&gt;</th><th scope=col>&lt;dbl&gt;</th><th scope=col>&lt;dbl&gt;</th><th scope=col>&lt;dbl&gt;</th><th scope=col>&lt;dbl&gt;</th><th scope=col>&lt;dbl&gt;</th><th scope=col>&lt;dbl&gt;</th><th scope=col>&lt;dbl&gt;</th><th scope=col>&lt;dbl&gt;</th><th scope=col>...</th><th scope=col>&lt;dbl&gt;</th><th scope=col>&lt;dbl&gt;</th><th scope=col>&lt;dbl&gt;</th><th scope=col>&lt;dbl&gt;</th><th scope=col>&lt;dbl&gt;</th><th scope=col>&lt;dbl&gt;</th><th scope=col>&lt;dbl&gt;</th><th scope=col>&lt;dbl&gt;</th><th scope=col>&lt;dbl&gt;</th><th scope=col>&lt;dbl&gt;</th></tr>\n",
       "</thead>\n",
       "<tbody>\n",
       "\t<tr><th scope=row>6</th><td>0</td><td>-0.27770439</td><td>-0.84997988</td><td>-0.03165619</td><td>-0.006829913</td><td>-0.210745241</td><td>-0.53585013</td><td> 0.007696877</td><td>1.0433922</td><td>0.4144154</td><td>...</td><td>0.25836193</td><td> 0.1892293</td><td>0.2142780</td><td>0.1612475</td><td> 0.13194565</td><td>-0.02686845</td><td> 0.01259177</td><td>0.0028812278</td><td>751</td><td>0.003567771</td></tr>\n",
       "\t<tr><th scope=row>7</th><td>0</td><td>-0.05433802</td><td>-0.53168112</td><td>-0.41618428</td><td> 0.009463765</td><td> 0.024087250</td><td>-0.39819007</td><td> 0.094026562</td><td>1.0480261</td><td>0.4074630</td><td>...</td><td>0.31204467</td><td> 0.2081486</td><td>0.2490844</td><td>0.1290554</td><td> 0.09024847</td><td> 0.01673227</td><td>-0.04316324</td><td>0.0023339243</td><td>763</td><td>0.002938891</td></tr>\n",
       "\t<tr><th scope=row>10</th><td>0</td><td>-0.12642183</td><td> 0.04333111</td><td> 0.10291211</td><td> 0.023266641</td><td>-0.005319968</td><td> 0.04723104</td><td> 0.229850766</td><td>1.4418696</td><td>0.3636428</td><td>...</td><td>0.41115257</td><td> 0.3620030</td><td>0.2297411</td><td>0.1269575</td><td> 0.05306408</td><td> 0.13418242</td><td>-0.08305601</td><td>0.0041532586</td><td>729</td><td>0.005088941</td></tr>\n",
       "\t<tr><th scope=row>21</th><td>0</td><td> 0.75723543</td><td> 0.77343268</td><td> 0.29536492</td><td> 0.038355284</td><td> 0.078247225</td><td> 0.69487090</td><td> 0.243864075</td><td>0.8180641</td><td>0.2480646</td><td>...</td><td>0.31547986</td><td> 0.1756344</td><td>0.2032494</td><td>0.1917748</td><td> 0.12124589</td><td> 0.23359797</td><td>-0.04281138</td><td>0.0010500796</td><td>809</td><td>0.001396322</td></tr>\n",
       "\t<tr><th scope=row>25</th><td>0</td><td> 0.10592274</td><td> 0.22851408</td><td>-0.28968595</td><td>-0.007323117</td><td> 0.021796662</td><td>-0.54979300</td><td> 0.194494239</td><td>0.4617986</td><td>0.4071776</td><td>...</td><td>0.11682582</td><td> 0.1684023</td><td>0.3056367</td><td>0.1664456</td><td> 0.12451782</td><td> 0.01814338</td><td>-0.02905954</td><td>0.0023006953</td><td>764</td><td>0.002891767</td></tr>\n",
       "\t<tr><th scope=row>30</th><td>0</td><td>-1.64132513</td><td>-0.85616913</td><td>-0.81603206</td><td>-0.007754083</td><td> 0.014617977</td><td>-1.40133710</td><td>-1.882322833</td><td>0.4598018</td><td>0.7605246</td><td>...</td><td>0.09952014</td><td>-4.0133769</td><td>0.4272012</td><td>0.0616526</td><td>-0.18262244</td><td>-0.20461995</td><td>-0.10946247</td><td>0.0002783997</td><td>886</td><td>0.000401134</td></tr>\n",
       "</tbody>\n",
       "</table>\n"
      ],
      "text/latex": [
       "A data.frame: 6 × 29\n",
       "\\begin{tabular}{r|lllllllllllllllllllll}\n",
       "  & y & atch & empch & salech & roech & ptbch & nich & dlcpdlttdebit & nwcdta & redat & ... & actdnat & ebitdxint & redsale & nidsale & ebitdsale & ltdat & ffodlt & predict\\_logit & score & pd\\\\\n",
       "  & <dbl> & <dbl> & <dbl> & <dbl> & <dbl> & <dbl> & <dbl> & <dbl> & <dbl> & <dbl> & ... & <dbl> & <dbl> & <dbl> & <dbl> & <dbl> & <dbl> & <dbl> & <dbl> & <dbl> & <dbl>\\\\\n",
       "\\hline\n",
       "\t6 & 0 & -0.27770439 & -0.84997988 & -0.03165619 & -0.006829913 & -0.210745241 & -0.53585013 &  0.007696877 & 1.0433922 & 0.4144154 & ... & 0.25836193 &  0.1892293 & 0.2142780 & 0.1612475 &  0.13194565 & -0.02686845 &  0.01259177 & 0.0028812278 & 751 & 0.003567771\\\\\n",
       "\t7 & 0 & -0.05433802 & -0.53168112 & -0.41618428 &  0.009463765 &  0.024087250 & -0.39819007 &  0.094026562 & 1.0480261 & 0.4074630 & ... & 0.31204467 &  0.2081486 & 0.2490844 & 0.1290554 &  0.09024847 &  0.01673227 & -0.04316324 & 0.0023339243 & 763 & 0.002938891\\\\\n",
       "\t10 & 0 & -0.12642183 &  0.04333111 &  0.10291211 &  0.023266641 & -0.005319968 &  0.04723104 &  0.229850766 & 1.4418696 & 0.3636428 & ... & 0.41115257 &  0.3620030 & 0.2297411 & 0.1269575 &  0.05306408 &  0.13418242 & -0.08305601 & 0.0041532586 & 729 & 0.005088941\\\\\n",
       "\t21 & 0 &  0.75723543 &  0.77343268 &  0.29536492 &  0.038355284 &  0.078247225 &  0.69487090 &  0.243864075 & 0.8180641 & 0.2480646 & ... & 0.31547986 &  0.1756344 & 0.2032494 & 0.1917748 &  0.12124589 &  0.23359797 & -0.04281138 & 0.0010500796 & 809 & 0.001396322\\\\\n",
       "\t25 & 0 &  0.10592274 &  0.22851408 & -0.28968595 & -0.007323117 &  0.021796662 & -0.54979300 &  0.194494239 & 0.4617986 & 0.4071776 & ... & 0.11682582 &  0.1684023 & 0.3056367 & 0.1664456 &  0.12451782 &  0.01814338 & -0.02905954 & 0.0023006953 & 764 & 0.002891767\\\\\n",
       "\t30 & 0 & -1.64132513 & -0.85616913 & -0.81603206 & -0.007754083 &  0.014617977 & -1.40133710 & -1.882322833 & 0.4598018 & 0.7605246 & ... & 0.09952014 & -4.0133769 & 0.4272012 & 0.0616526 & -0.18262244 & -0.20461995 & -0.10946247 & 0.0002783997 & 886 & 0.000401134\\\\\n",
       "\\end{tabular}\n"
      ],
      "text/markdown": [
       "\n",
       "A data.frame: 6 × 29\n",
       "\n",
       "| <!--/--> | y &lt;dbl&gt; | atch &lt;dbl&gt; | empch &lt;dbl&gt; | salech &lt;dbl&gt; | roech &lt;dbl&gt; | ptbch &lt;dbl&gt; | nich &lt;dbl&gt; | dlcpdlttdebit &lt;dbl&gt; | nwcdta &lt;dbl&gt; | redat &lt;dbl&gt; | ... ... | actdnat &lt;dbl&gt; | ebitdxint &lt;dbl&gt; | redsale &lt;dbl&gt; | nidsale &lt;dbl&gt; | ebitdsale &lt;dbl&gt; | ltdat &lt;dbl&gt; | ffodlt &lt;dbl&gt; | predict_logit &lt;dbl&gt; | score &lt;dbl&gt; | pd &lt;dbl&gt; |\n",
       "|---|---|---|---|---|---|---|---|---|---|---|---|---|---|---|---|---|---|---|---|---|---|\n",
       "| 6 | 0 | -0.27770439 | -0.84997988 | -0.03165619 | -0.006829913 | -0.210745241 | -0.53585013 |  0.007696877 | 1.0433922 | 0.4144154 | ... | 0.25836193 |  0.1892293 | 0.2142780 | 0.1612475 |  0.13194565 | -0.02686845 |  0.01259177 | 0.0028812278 | 751 | 0.003567771 |\n",
       "| 7 | 0 | -0.05433802 | -0.53168112 | -0.41618428 |  0.009463765 |  0.024087250 | -0.39819007 |  0.094026562 | 1.0480261 | 0.4074630 | ... | 0.31204467 |  0.2081486 | 0.2490844 | 0.1290554 |  0.09024847 |  0.01673227 | -0.04316324 | 0.0023339243 | 763 | 0.002938891 |\n",
       "| 10 | 0 | -0.12642183 |  0.04333111 |  0.10291211 |  0.023266641 | -0.005319968 |  0.04723104 |  0.229850766 | 1.4418696 | 0.3636428 | ... | 0.41115257 |  0.3620030 | 0.2297411 | 0.1269575 |  0.05306408 |  0.13418242 | -0.08305601 | 0.0041532586 | 729 | 0.005088941 |\n",
       "| 21 | 0 |  0.75723543 |  0.77343268 |  0.29536492 |  0.038355284 |  0.078247225 |  0.69487090 |  0.243864075 | 0.8180641 | 0.2480646 | ... | 0.31547986 |  0.1756344 | 0.2032494 | 0.1917748 |  0.12124589 |  0.23359797 | -0.04281138 | 0.0010500796 | 809 | 0.001396322 |\n",
       "| 25 | 0 |  0.10592274 |  0.22851408 | -0.28968595 | -0.007323117 |  0.021796662 | -0.54979300 |  0.194494239 | 0.4617986 | 0.4071776 | ... | 0.11682582 |  0.1684023 | 0.3056367 | 0.1664456 |  0.12451782 |  0.01814338 | -0.02905954 | 0.0023006953 | 764 | 0.002891767 |\n",
       "| 30 | 0 | -1.64132513 | -0.85616913 | -0.81603206 | -0.007754083 |  0.014617977 | -1.40133710 | -1.882322833 | 0.4598018 | 0.7605246 | ... | 0.09952014 | -4.0133769 | 0.4272012 | 0.0616526 | -0.18262244 | -0.20461995 | -0.10946247 | 0.0002783997 | 886 | 0.000401134 |\n",
       "\n"
      ],
      "text/plain": [
       "   y atch        empch       salech      roech        ptbch        nich       \n",
       "6  0 -0.27770439 -0.84997988 -0.03165619 -0.006829913 -0.210745241 -0.53585013\n",
       "7  0 -0.05433802 -0.53168112 -0.41618428  0.009463765  0.024087250 -0.39819007\n",
       "10 0 -0.12642183  0.04333111  0.10291211  0.023266641 -0.005319968  0.04723104\n",
       "21 0  0.75723543  0.77343268  0.29536492  0.038355284  0.078247225  0.69487090\n",
       "25 0  0.10592274  0.22851408 -0.28968595 -0.007323117  0.021796662 -0.54979300\n",
       "30 0 -1.64132513 -0.85616913 -0.81603206 -0.007754083  0.014617977 -1.40133710\n",
       "   dlcpdlttdebit nwcdta    redat     ... actdnat    ebitdxint  redsale  \n",
       "6   0.007696877  1.0433922 0.4144154 ... 0.25836193  0.1892293 0.2142780\n",
       "7   0.094026562  1.0480261 0.4074630 ... 0.31204467  0.2081486 0.2490844\n",
       "10  0.229850766  1.4418696 0.3636428 ... 0.41115257  0.3620030 0.2297411\n",
       "21  0.243864075  0.8180641 0.2480646 ... 0.31547986  0.1756344 0.2032494\n",
       "25  0.194494239  0.4617986 0.4071776 ... 0.11682582  0.1684023 0.3056367\n",
       "30 -1.882322833  0.4598018 0.7605246 ... 0.09952014 -4.0133769 0.4272012\n",
       "   nidsale   ebitdsale   ltdat       ffodlt      predict_logit score\n",
       "6  0.1612475  0.13194565 -0.02686845  0.01259177 0.0028812278  751  \n",
       "7  0.1290554  0.09024847  0.01673227 -0.04316324 0.0023339243  763  \n",
       "10 0.1269575  0.05306408  0.13418242 -0.08305601 0.0041532586  729  \n",
       "21 0.1917748  0.12124589  0.23359797 -0.04281138 0.0010500796  809  \n",
       "25 0.1664456  0.12451782  0.01814338 -0.02905954 0.0023006953  764  \n",
       "30 0.0616526 -0.18262244 -0.20461995 -0.10946247 0.0002783997  886  \n",
       "   pd         \n",
       "6  0.003567771\n",
       "7  0.002938891\n",
       "10 0.005088941\n",
       "21 0.001396322\n",
       "25 0.002891767\n",
       "30 0.000401134"
      ]
     },
     "metadata": {},
     "output_type": "display_data"
    }
   ],
   "source": [
    "head(test)"
   ]
  },
  {
   "cell_type": "code",
   "execution_count": 358,
   "metadata": {},
   "outputs": [],
   "source": [
    "# grouping by bands\n",
    "data_all <- smbinning.gen(data_all, score_cust, chrname = 'score_band')"
   ]
  },
  {
   "cell_type": "code",
   "execution_count": 360,
   "metadata": {},
   "outputs": [
    {
     "name": "stderr",
     "output_type": "stream",
     "text": [
      "`summarise()` ungrouping output (override with `.groups` argument)\n",
      "\n"
     ]
    }
   ],
   "source": [
    "# Compare actual against fitted PDs\n",
    "# Compute mean values\n",
    "data_pd<- data_all %>%\n",
    "        dplyr::select(score, score_band, pd, y) %>%\n",
    "        dplyr::group_by(score_band) %>%\n",
    "        dplyr::summarise(mean_dr = round(mean(y),4),\n",
    "        mean_pd = round(mean(pd),4))"
   ]
  },
  {
   "cell_type": "code",
   "execution_count": 361,
   "metadata": {},
   "outputs": [],
   "source": [
    "# Compute rmse\n",
    "rmse<-sqrt(mean((data_pd$mean_dr - data_pd$mean_pd)^2))"
   ]
  },
  {
   "cell_type": "code",
   "execution_count": 362,
   "metadata": {},
   "outputs": [
    {
     "data": {
      "text/html": [
       "0.100357603455984"
      ],
      "text/latex": [
       "0.100357603455984"
      ],
      "text/markdown": [
       "0.100357603455984"
      ],
      "text/plain": [
       "[1] 0.1003576"
      ]
     },
     "metadata": {},
     "output_type": "display_data"
    }
   ],
   "source": [
    "rmse"
   ]
  },
  {
   "cell_type": "code",
   "execution_count": 363,
   "metadata": {},
   "outputs": [
    {
     "data": {
      "text/html": [
       "<table>\n",
       "<caption>A tibble: 14 × 3</caption>\n",
       "<thead>\n",
       "\t<tr><th scope=col>score_band</th><th scope=col>mean_dr</th><th scope=col>mean_pd</th></tr>\n",
       "\t<tr><th scope=col>&lt;fct&gt;</th><th scope=col>&lt;dbl&gt;</th><th scope=col>&lt;dbl&gt;</th></tr>\n",
       "</thead>\n",
       "<tbody>\n",
       "\t<tr><td>01 &lt;= 420</td><td>1.0000</td><td>0.6290</td></tr>\n",
       "\t<tr><td>02 &lt;= 460</td><td>0.3333</td><td>0.3715</td></tr>\n",
       "\t<tr><td>03 &lt;= 500</td><td>0.1963</td><td>0.2206</td></tr>\n",
       "\t<tr><td>04 &lt;= 540</td><td>0.1600</td><td>0.1270</td></tr>\n",
       "\t<tr><td>05 &lt;= 580</td><td>0.0793</td><td>0.0699</td></tr>\n",
       "\t<tr><td>06 &lt;= 620</td><td>0.0295</td><td>0.0364</td></tr>\n",
       "\t<tr><td>07 &lt;= 660</td><td>0.0094</td><td>0.0183</td></tr>\n",
       "\t<tr><td>08 &lt;= 700</td><td>0.0080</td><td>0.0091</td></tr>\n",
       "\t<tr><td>09 &lt;= 740</td><td>0.0021</td><td>0.0045</td></tr>\n",
       "\t<tr><td>10 &lt;= 780</td><td>0.0029</td><td>0.0022</td></tr>\n",
       "\t<tr><td>11 &lt;= 820</td><td>0.0012</td><td>0.0011</td></tr>\n",
       "\t<tr><td>12 &lt;= 860</td><td>0.0010</td><td>0.0005</td></tr>\n",
       "\t<tr><td>13 &lt;= 900</td><td>0.0009</td><td>0.0003</td></tr>\n",
       "\t<tr><td>14 &gt; 900 </td><td>0.0004</td><td>0.0001</td></tr>\n",
       "</tbody>\n",
       "</table>\n"
      ],
      "text/latex": [
       "A tibble: 14 × 3\n",
       "\\begin{tabular}{lll}\n",
       " score\\_band & mean\\_dr & mean\\_pd\\\\\n",
       " <fct> & <dbl> & <dbl>\\\\\n",
       "\\hline\n",
       "\t 01 <= 420 & 1.0000 & 0.6290\\\\\n",
       "\t 02 <= 460 & 0.3333 & 0.3715\\\\\n",
       "\t 03 <= 500 & 0.1963 & 0.2206\\\\\n",
       "\t 04 <= 540 & 0.1600 & 0.1270\\\\\n",
       "\t 05 <= 580 & 0.0793 & 0.0699\\\\\n",
       "\t 06 <= 620 & 0.0295 & 0.0364\\\\\n",
       "\t 07 <= 660 & 0.0094 & 0.0183\\\\\n",
       "\t 08 <= 700 & 0.0080 & 0.0091\\\\\n",
       "\t 09 <= 740 & 0.0021 & 0.0045\\\\\n",
       "\t 10 <= 780 & 0.0029 & 0.0022\\\\\n",
       "\t 11 <= 820 & 0.0012 & 0.0011\\\\\n",
       "\t 12 <= 860 & 0.0010 & 0.0005\\\\\n",
       "\t 13 <= 900 & 0.0009 & 0.0003\\\\\n",
       "\t 14 > 900  & 0.0004 & 0.0001\\\\\n",
       "\\end{tabular}\n"
      ],
      "text/markdown": [
       "\n",
       "A tibble: 14 × 3\n",
       "\n",
       "| score_band &lt;fct&gt; | mean_dr &lt;dbl&gt; | mean_pd &lt;dbl&gt; |\n",
       "|---|---|---|\n",
       "| 01 &lt;= 420 | 1.0000 | 0.6290 |\n",
       "| 02 &lt;= 460 | 0.3333 | 0.3715 |\n",
       "| 03 &lt;= 500 | 0.1963 | 0.2206 |\n",
       "| 04 &lt;= 540 | 0.1600 | 0.1270 |\n",
       "| 05 &lt;= 580 | 0.0793 | 0.0699 |\n",
       "| 06 &lt;= 620 | 0.0295 | 0.0364 |\n",
       "| 07 &lt;= 660 | 0.0094 | 0.0183 |\n",
       "| 08 &lt;= 700 | 0.0080 | 0.0091 |\n",
       "| 09 &lt;= 740 | 0.0021 | 0.0045 |\n",
       "| 10 &lt;= 780 | 0.0029 | 0.0022 |\n",
       "| 11 &lt;= 820 | 0.0012 | 0.0011 |\n",
       "| 12 &lt;= 860 | 0.0010 | 0.0005 |\n",
       "| 13 &lt;= 900 | 0.0009 | 0.0003 |\n",
       "| 14 &gt; 900  | 0.0004 | 0.0001 |\n",
       "\n"
      ],
      "text/plain": [
       "   score_band mean_dr mean_pd\n",
       "1  01 <= 420  1.0000  0.6290 \n",
       "2  02 <= 460  0.3333  0.3715 \n",
       "3  03 <= 500  0.1963  0.2206 \n",
       "4  04 <= 540  0.1600  0.1270 \n",
       "5  05 <= 580  0.0793  0.0699 \n",
       "6  06 <= 620  0.0295  0.0364 \n",
       "7  07 <= 660  0.0094  0.0183 \n",
       "8  08 <= 700  0.0080  0.0091 \n",
       "9  09 <= 740  0.0021  0.0045 \n",
       "10 10 <= 780  0.0029  0.0022 \n",
       "11 11 <= 820  0.0012  0.0011 \n",
       "12 12 <= 860  0.0010  0.0005 \n",
       "13 13 <= 900  0.0009  0.0003 \n",
       "14 14 > 900   0.0004  0.0001 "
      ]
     },
     "metadata": {},
     "output_type": "display_data"
    }
   ],
   "source": [
    "data_pd"
   ]
  },
  {
   "cell_type": "code",
   "execution_count": 364,
   "metadata": {},
   "outputs": [
    {
     "data": {
      "image/png": "[encoded data removed]",
      "text/plain": [
       "plot without title"
      ]
     },
     "metadata": {
      "image/png": {
       "height": 420,
       "width": 420
      }
     },
     "output_type": "display_data"
    }
   ],
   "source": [
    "# actual results \n",
    "ggplot(data_pd, aes(x = score_band, y = mean_dr)) + \n",
    "geom_line(aes(group = 1))"
   ]
  },
  {
   "cell_type": "code",
   "execution_count": 365,
   "metadata": {},
   "outputs": [
    {
     "data": {
      "image/png": "[encoded data removed]",
      "text/plain": [
       "plot without title"
      ]
     },
     "metadata": {
      "image/png": {
       "height": 420,
       "width": 420
      }
     },
     "output_type": "display_data"
    }
   ],
   "source": [
    "# predicted results \n",
    "ggplot(data_pd, aes(x = score_band, y = mean_pd)) + \n",
    "geom_line(aes(group = 1))"
   ]
  },
  {
   "cell_type": "code",
   "execution_count": null,
   "metadata": {},
   "outputs": [],
   "source": []
  }
 ],
 "metadata": {
  "kernelspec": {
   "display_name": "R",
   "language": "R",
   "name": "ir"
  },
  "language_info": {
   "codemirror_mode": "r",
   "file_extension": ".r",
   "mimetype": "text/x-r-source",
   "name": "R",
   "pygments_lexer": "r",
   "version": "4.0.3"
  }
 },
 "nbformat": 4,
 "nbformat_minor": 4
}
