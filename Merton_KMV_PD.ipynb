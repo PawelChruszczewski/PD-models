{
 "cells": [
  {
   "cell_type": "code",
   "execution_count": 8,
   "metadata": {},
   "outputs": [
    {
     "name": "stderr",
     "output_type": "stream",
     "text": [
      "\n",
      "Attaching package: 'dplyr'\n",
      "\n",
      "\n",
      "The following objects are masked from 'package:stats':\n",
      "\n",
      "    filter, lag\n",
      "\n",
      "\n",
      "The following objects are masked from 'package:base':\n",
      "\n",
      "    intersect, setdiff, setequal, union\n",
      "\n",
      "\n"
     ]
    }
   ],
   "source": [
    "library('dplyr')"
   ]
  },
  {
   "cell_type": "code",
   "execution_count": 9,
   "metadata": {},
   "outputs": [],
   "source": [
    "library('tidyr')"
   ]
  },
  {
   "cell_type": "code",
   "execution_count": 10,
   "metadata": {},
   "outputs": [],
   "source": [
    "library('tibble')"
   ]
  },
  {
   "cell_type": "code",
   "execution_count": 11,
   "metadata": {},
   "outputs": [],
   "source": [
    "library('DtD')"
   ]
  },
  {
   "cell_type": "markdown",
   "metadata": {},
   "source": [
    "### Modelling"
   ]
  },
  {
   "cell_type": "code",
   "execution_count": 12,
   "metadata": {},
   "outputs": [],
   "source": [
    "Bankrupts <- read.csv('C:/Users/pawel/PycharmProjects/Bankrupts_point_final.csv', fileEncoding=\"UTF-8-BOM\")"
   ]
  },
  {
   "cell_type": "code",
   "execution_count": 30,
   "metadata": {},
   "outputs": [],
   "source": [
    "# dropping first redundant column\n",
    "Bankrupts$X<-NULL"
   ]
  },
  {
   "cell_type": "code",
   "execution_count": 31,
   "metadata": {},
   "outputs": [],
   "source": [
    "# integer vector, which enables to identify given company observations\n",
    "# length (grp) equals all observations in the sample\n",
    "grp<- Bankrupts$grp"
   ]
  },
  {
   "cell_type": "code",
   "execution_count": 32,
   "metadata": {},
   "outputs": [],
   "source": [
    "# integer scalar for the minimum number of observation required in each window\n",
    "min_obs <- 63"
   ]
  },
  {
   "cell_type": "code",
   "execution_count": 33,
   "metadata": {},
   "outputs": [],
   "source": [
    "# unique number of identifiers (companies) in the sample\n",
    "grps <- unique(grp)"
   ]
  },
  {
   "cell_type": "code",
   "execution_count": 34,
   "metadata": {},
   "outputs": [],
   "source": [
    "# matrix in which the results will be stored\n",
    "out <- matrix(NA_real_, nrow = length(grps), ncol = 10, dimnames = list(NULL, c(\"mu\", \"vol\", \"n_iter\", \"success\", \"n_obs\", \"grp\",\"vt\",\"st\",\"dd\", \"pd\")))"
   ]
  },
  {
   "cell_type": "code",
   "execution_count": 35,
   "metadata": {},
   "outputs": [],
   "source": [
    "# loop that enables to estimate the parameter (drift and asset's volatility) for each company\n",
    "for(g in grps){    \n",
    "    idx <- which(grps == g)\n",
    "    keep <- which(grp %in% g)\n",
    "    out[idx, c(\"n_obs\", \"grp\")] <- c(length(keep), g)\n",
    "    if(length(keep) < min_obs)\n",
    "        next\n",
    "    res <- with(\n",
    "    Bankrupts[keep, ],\n",
    "    BS_fit(S = S, D = dt, T. = T, r = RF_Rate, time = time, method = \"mle\"))\n",
    "    out[idx, c(\"mu\", \"vol\", \"n_iter\", \"success\")] <- rep(\n",
    "    do.call(c, res[c(\"ests\", \"n_iter\", \"success\")]), each = length(idx))\n",
    "    }"
   ]
  },
  {
   "cell_type": "code",
   "execution_count": 36,
   "metadata": {},
   "outputs": [],
   "source": [
    "out <- data.frame(out)"
   ]
  },
  {
   "cell_type": "code",
   "execution_count": 38,
   "metadata": {},
   "outputs": [],
   "source": [
    "Results <- Bankrupts %>%\n",
    "    arrange(grp, at) %>% \n",
    "    group_by(grp) %>% \n",
    "    summarise_all(last)"
   ]
  },
  {
   "cell_type": "code",
   "execution_count": 44,
   "metadata": {},
   "outputs": [],
   "source": [
    "out <- merge(out, Results[,c('grp','dt')], by=\"grp\")"
   ]
  },
  {
   "cell_type": "code",
   "execution_count": 45,
   "metadata": {},
   "outputs": [],
   "source": [
    "# simulating observations for the next one-year period\n",
    "for (g in grps){\n",
    "    bs_sim <- BS_sim(vol = out[,'vol'][g], \n",
    "               mu = out[,'mu'][g], \n",
    "               dt = 1/out[,'n_obs'][g], \n",
    "               V_0 = tail(Bankrupts[Bankrupts['grp']==g,][,'at'],1), \n",
    "               D = out[,'dt'][g], \n",
    "               r = Bankrupts[Bankrupts['grp']==g,][,'RF_Rate'], \n",
    "               T. = 1)\n",
    "    \n",
    "    out[,'vt'][g] <- tail(bs_sim[,'V'],1)\n",
    "    out[,'st'][g] <- tail(bs_sim[,'S'],1)\n",
    "    }"
   ]
  },
  {
   "cell_type": "code",
   "execution_count": 46,
   "metadata": {},
   "outputs": [],
   "source": [
    "# calculating DtD (Distance to Default)\n",
    "out$dd <- (log(out$vt)-log(out$dt)+(out$mu-(0.5*(out$vol^2))))/out$vol"
   ]
  },
  {
   "cell_type": "code",
   "execution_count": 47,
   "metadata": {},
   "outputs": [],
   "source": [
    "# calculating PD (Probability of Default)\n",
    "out$pd<-pnorm(-out$dd)"
   ]
  },
  {
   "cell_type": "code",
   "execution_count": 48,
   "metadata": {},
   "outputs": [
    {
     "data": {
      "text/html": [
       "<table>\n",
       "<caption>A data.frame: 6 × 11</caption>\n",
       "<thead>\n",
       "\t<tr><th></th><th scope=col>grp</th><th scope=col>mu</th><th scope=col>vol</th><th scope=col>n_iter</th><th scope=col>success</th><th scope=col>n_obs</th><th scope=col>vt</th><th scope=col>st</th><th scope=col>dd</th><th scope=col>pd</th><th scope=col>dt</th></tr>\n",
       "\t<tr><th></th><th scope=col>&lt;dbl&gt;</th><th scope=col>&lt;dbl&gt;</th><th scope=col>&lt;dbl&gt;</th><th scope=col>&lt;dbl&gt;</th><th scope=col>&lt;dbl&gt;</th><th scope=col>&lt;dbl&gt;</th><th scope=col>&lt;dbl&gt;</th><th scope=col>&lt;dbl&gt;</th><th scope=col>&lt;dbl&gt;</th><th scope=col>&lt;dbl&gt;</th><th scope=col>&lt;dbl&gt;</th></tr>\n",
       "</thead>\n",
       "<tbody>\n",
       "\t<tr><th scope=row>1</th><td>1</td><td> 0.01379056</td><td>0.1417186</td><td>19</td><td>1</td><td>252</td><td>10615.2662</td><td>4124.693341</td><td> 3.4771658</td><td>2.533722e-04</td><td>6509.5000</td></tr>\n",
       "\t<tr><th scope=row>2</th><td>2</td><td>-0.47679803</td><td>0.3515911</td><td>21</td><td>1</td><td>251</td><td>  399.0195</td><td> 218.558911</td><td> 0.6687021</td><td>2.518428e-01</td><td> 184.0660</td></tr>\n",
       "\t<tr><th scope=row>3</th><td>3</td><td> 0.09930781</td><td>0.2715854</td><td>16</td><td>1</td><td>252</td><td>  161.3046</td><td> 137.739289</td><td> 7.1607186</td><td>4.012762e-13</td><td>  24.5565</td></tr>\n",
       "\t<tr><th scope=row>4</th><td>4</td><td>-0.11040273</td><td>0.1801733</td><td>27</td><td>1</td><td>253</td><td>  497.7010</td><td> 126.808829</td><td> 0.5726888</td><td>2.834277e-01</td><td> 395.5125</td></tr>\n",
       "\t<tr><th scope=row>5</th><td>5</td><td>-0.20981372</td><td>0.2910424</td><td>27</td><td>1</td><td>252</td><td>  110.9617</td><td>   7.967843</td><td>-1.4606695</td><td>9.279469e-01</td><td> 131.9120</td></tr>\n",
       "\t<tr><th scope=row>6</th><td>6</td><td>-0.07397569</td><td>0.1799105</td><td>24</td><td>1</td><td>253</td><td>  264.1419</td><td>  50.837086</td><td> 0.2822587</td><td>3.888726e-01</td><td> 229.4180</td></tr>\n",
       "</tbody>\n",
       "</table>\n"
      ],
      "text/latex": [
       "A data.frame: 6 × 11\n",
       "\\begin{tabular}{r|lllllllllll}\n",
       "  & grp & mu & vol & n\\_iter & success & n\\_obs & vt & st & dd & pd & dt\\\\\n",
       "  & <dbl> & <dbl> & <dbl> & <dbl> & <dbl> & <dbl> & <dbl> & <dbl> & <dbl> & <dbl> & <dbl>\\\\\n",
       "\\hline\n",
       "\t1 & 1 &  0.01379056 & 0.1417186 & 19 & 1 & 252 & 10615.2662 & 4124.693341 &  3.4771658 & 2.533722e-04 & 6509.5000\\\\\n",
       "\t2 & 2 & -0.47679803 & 0.3515911 & 21 & 1 & 251 &   399.0195 &  218.558911 &  0.6687021 & 2.518428e-01 &  184.0660\\\\\n",
       "\t3 & 3 &  0.09930781 & 0.2715854 & 16 & 1 & 252 &   161.3046 &  137.739289 &  7.1607186 & 4.012762e-13 &   24.5565\\\\\n",
       "\t4 & 4 & -0.11040273 & 0.1801733 & 27 & 1 & 253 &   497.7010 &  126.808829 &  0.5726888 & 2.834277e-01 &  395.5125\\\\\n",
       "\t5 & 5 & -0.20981372 & 0.2910424 & 27 & 1 & 252 &   110.9617 &    7.967843 & -1.4606695 & 9.279469e-01 &  131.9120\\\\\n",
       "\t6 & 6 & -0.07397569 & 0.1799105 & 24 & 1 & 253 &   264.1419 &   50.837086 &  0.2822587 & 3.888726e-01 &  229.4180\\\\\n",
       "\\end{tabular}\n"
      ],
      "text/markdown": [
       "\n",
       "A data.frame: 6 × 11\n",
       "\n",
       "| <!--/--> | grp &lt;dbl&gt; | mu &lt;dbl&gt; | vol &lt;dbl&gt; | n_iter &lt;dbl&gt; | success &lt;dbl&gt; | n_obs &lt;dbl&gt; | vt &lt;dbl&gt; | st &lt;dbl&gt; | dd &lt;dbl&gt; | pd &lt;dbl&gt; | dt &lt;dbl&gt; |\n",
       "|---|---|---|---|---|---|---|---|---|---|---|---|\n",
       "| 1 | 1 |  0.01379056 | 0.1417186 | 19 | 1 | 252 | 10615.2662 | 4124.693341 |  3.4771658 | 2.533722e-04 | 6509.5000 |\n",
       "| 2 | 2 | -0.47679803 | 0.3515911 | 21 | 1 | 251 |   399.0195 |  218.558911 |  0.6687021 | 2.518428e-01 |  184.0660 |\n",
       "| 3 | 3 |  0.09930781 | 0.2715854 | 16 | 1 | 252 |   161.3046 |  137.739289 |  7.1607186 | 4.012762e-13 |   24.5565 |\n",
       "| 4 | 4 | -0.11040273 | 0.1801733 | 27 | 1 | 253 |   497.7010 |  126.808829 |  0.5726888 | 2.834277e-01 |  395.5125 |\n",
       "| 5 | 5 | -0.20981372 | 0.2910424 | 27 | 1 | 252 |   110.9617 |    7.967843 | -1.4606695 | 9.279469e-01 |  131.9120 |\n",
       "| 6 | 6 | -0.07397569 | 0.1799105 | 24 | 1 | 253 |   264.1419 |   50.837086 |  0.2822587 | 3.888726e-01 |  229.4180 |\n",
       "\n"
      ],
      "text/plain": [
       "  grp mu          vol       n_iter success n_obs vt         st         \n",
       "1 1    0.01379056 0.1417186 19     1       252   10615.2662 4124.693341\n",
       "2 2   -0.47679803 0.3515911 21     1       251     399.0195  218.558911\n",
       "3 3    0.09930781 0.2715854 16     1       252     161.3046  137.739289\n",
       "4 4   -0.11040273 0.1801733 27     1       253     497.7010  126.808829\n",
       "5 5   -0.20981372 0.2910424 27     1       252     110.9617    7.967843\n",
       "6 6   -0.07397569 0.1799105 24     1       253     264.1419   50.837086\n",
       "  dd         pd           dt       \n",
       "1  3.4771658 2.533722e-04 6509.5000\n",
       "2  0.6687021 2.518428e-01  184.0660\n",
       "3  7.1607186 4.012762e-13   24.5565\n",
       "4  0.5726888 2.834277e-01  395.5125\n",
       "5 -1.4606695 9.279469e-01  131.9120\n",
       "6  0.2822587 3.888726e-01  229.4180"
      ]
     },
     "metadata": {},
     "output_type": "display_data"
    }
   ],
   "source": [
    "head(out)"
   ]
  },
  {
   "cell_type": "code",
   "execution_count": 49,
   "metadata": {},
   "outputs": [
    {
     "data": {
      "text/html": [
       "0.605030358815014"
      ],
      "text/latex": [
       "0.605030358815014"
      ],
      "text/markdown": [
       "0.605030358815014"
      ],
      "text/plain": [
       "[1] 0.6050304"
      ]
     },
     "metadata": {},
     "output_type": "display_data"
    }
   ],
   "source": [
    "mean(out$pd)"
   ]
  }
 ],
 "metadata": {
  "kernelspec": {
   "display_name": "R",
   "language": "R",
   "name": "ir"
  },
  "language_info": {
   "codemirror_mode": "r",
   "file_extension": ".r",
   "mimetype": "text/x-r-source",
   "name": "R",
   "pygments_lexer": "r",
   "version": "4.0.3"
  }
 },
 "nbformat": 4,
 "nbformat_minor": 4
}
